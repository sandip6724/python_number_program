{
 "cells": [
  {
   "cell_type": "markdown",
   "id": "845100ee",
   "metadata": {},
   "source": [
    "### Addition of Numbers :"
   ]
  },
  {
   "cell_type": "code",
   "execution_count": 7,
   "id": "9e0a71cb",
   "metadata": {},
   "outputs": [
    {
     "name": "stdout",
     "output_type": "stream",
     "text": [
      "Enter 1st number :14\n",
      "Enter 2nd number :56\n",
      "sum of no :14.00 + 56.00 is 70.00\n"
     ]
    }
   ],
   "source": [
    "num1 = input('Enter 1st number :')\n",
    "num2 = input('Enter 2nd number :')\n",
    "num1 = float(num1)\n",
    "num2 = float(num2)\n",
    "result = num1 + num2\n",
    "print(f'sum of no :{num1:0.2f} + {num2:0.2f} is {result:0.2f}')"
   ]
  },
  {
   "cell_type": "markdown",
   "id": "272cadc0",
   "metadata": {},
   "source": [
    "### Multipication of Numbers :"
   ]
  },
  {
   "cell_type": "code",
   "execution_count": null,
   "id": "de05a4c2",
   "metadata": {},
   "outputs": [],
   "source": [
    "num1 = input('Enter 1st number :')\n",
    "num2 = input('Enter 2nd number :')\n",
    "num1 = float(num1)\n",
    "num2 = float(num2)\n",
    "result = num1*num2\n",
    "print(f'Multipication of {num1:.2f} and {num2:.2f} is {result:.2f}')"
   ]
  },
  {
   "attachments": {
    "Screenshot%202023-10-20%20153447.png": {
     "image/png": "[encoded data removed]"
    }
   },
   "cell_type": "markdown",
   "id": "8cb7f0de",
   "metadata": {},
   "source": [
    "#### Temperature conversion formula :\n",
    "![Screenshot%202023-10-20%20153447.png](attachment:Screenshot%202023-10-20%20153447.png)"
   ]
  },
  {
   "cell_type": "code",
   "execution_count": null,
   "id": "dcd4a4e0",
   "metadata": {},
   "outputs": [],
   "source": [
    "celsius = float(input('Enter Temperature in celsius :'))\n",
    "fahrenheit = 1.8 *celsius + 32\n",
    "kelvin = 273.15 + celsius\n",
    "print(f'{celsius:.2f} celsius = {fahrenheit:.2f} fahrenheit')\n",
    "print(f'{celsius:.2f} celsius = {kelvin:.2f} kelvin')"
   ]
  },
  {
   "cell_type": "markdown",
   "id": "1b3a31fd",
   "metadata": {},
   "source": [
    "### Rectangle Area and perimeter :\n",
    "- Area = l*b\n",
    "- perimeter = 2(l+b)"
   ]
  },
  {
   "cell_type": "code",
   "execution_count": null,
   "id": "2d6f8eda",
   "metadata": {},
   "outputs": [],
   "source": [
    "l = float(input('Enter Length of a Rectangle :'))\n",
    "b = float(input('Enter Breath of a Rectangle :'))\n",
    "area = l*b\n",
    "perimeter = 2*(l + b)\n",
    "print(f'Area = {area : .2f}')\n",
    "print(f'Perimeter = {perimeter : .2f}')"
   ]
  },
  {
   "cell_type": "markdown",
   "id": "1613b489",
   "metadata": {},
   "source": [
    "### Triangle area  :\n",
    "- Area = 1/2 * Base * Height"
   ]
  },
  {
   "cell_type": "code",
   "execution_count": 5,
   "id": "9d8e7c73",
   "metadata": {},
   "outputs": [
    {
     "name": "stdout",
     "output_type": "stream",
     "text": [
      "Enter the base of a triangle :8\n",
      "Enter the height of a triangle :14\n",
      "Area =  56.00\n"
     ]
    }
   ],
   "source": [
    "b = float(input('Enter the base of a triangle :'))\n",
    "h = float(input('Enter the height of a triangle :'))\n",
    "area = 1/2 *b*h\n",
    "print(f'Area = {area : .2f}')"
   ]
  },
  {
   "cell_type": "markdown",
   "id": "fd29fb48",
   "metadata": {},
   "source": [
    "### Check if a Number is Even or Odd:"
   ]
  },
  {
   "cell_type": "code",
   "execution_count": 10,
   "id": "7bbbc23f",
   "metadata": {},
   "outputs": [],
   "source": [
    "def check_even_odd(num):\n",
    "    if num % 2 == 0 :\n",
    "        return \"even\"\n",
    "    else:\n",
    "        return \"odd\""
   ]
  },
  {
   "cell_type": "code",
   "execution_count": 11,
   "id": "6c0d9c1c",
   "metadata": {},
   "outputs": [
    {
     "data": {
      "text/plain": [
       "'even'"
      ]
     },
     "execution_count": 11,
     "metadata": {},
     "output_type": "execute_result"
    }
   ],
   "source": [
    "check_even_odd(22)"
   ]
  },
  {
   "cell_type": "code",
   "execution_count": 12,
   "id": "fc598400",
   "metadata": {},
   "outputs": [],
   "source": [
    "def even_odd(n):\n",
    "    if n % 2 == 0:\n",
    "        print('The number is EVEN!')\n",
    "    else:\n",
    "        print('The number is ODD!')"
   ]
  },
  {
   "cell_type": "code",
   "execution_count": 13,
   "id": "85583228",
   "metadata": {},
   "outputs": [
    {
     "name": "stdout",
     "output_type": "stream",
     "text": [
      "The number is ODD!\n"
     ]
    }
   ],
   "source": [
    "even_odd(17)"
   ]
  },
  {
   "cell_type": "markdown",
   "id": "3c6393df",
   "metadata": {},
   "source": [
    "### Find the Factorial of a Number:"
   ]
  },
  {
   "cell_type": "code",
   "execution_count": 24,
   "id": "6c09cdd1",
   "metadata": {},
   "outputs": [
    {
     "name": "stdout",
     "output_type": "stream",
     "text": [
      "Enter a number7\n",
      "The Factorial of 7 is 5040\n"
     ]
    }
   ],
   "source": [
    "def factorial(num):\n",
    "    if num == 0 or num == 1:\n",
    "        return 1\n",
    "    else:\n",
    "        return num * factorial(num - 1)\n",
    "no = int(input(\"Enter a number\"))\n",
    "result = factorial(no)\n",
    "print(f'The Factorial of {no} is {result}')"
   ]
  },
  {
   "cell_type": "code",
   "execution_count": 23,
   "id": "354a78a5",
   "metadata": {},
   "outputs": [
    {
     "data": {
      "text/plain": [
       "120"
      ]
     },
     "execution_count": 23,
     "metadata": {},
     "output_type": "execute_result"
    }
   ],
   "source": [
    "factorial(5)"
   ]
  },
  {
   "cell_type": "code",
   "execution_count": 25,
   "id": "2bc2d22e",
   "metadata": {},
   "outputs": [
    {
     "data": {
      "text/plain": [
       "5040"
      ]
     },
     "execution_count": 25,
     "metadata": {},
     "output_type": "execute_result"
    }
   ],
   "source": [
    "factorial(7)"
   ]
  },
  {
   "cell_type": "markdown",
   "id": "2ea1db81",
   "metadata": {},
   "source": [
    "### Check if a Number is Prime:"
   ]
  },
  {
   "cell_type": "code",
   "execution_count": 30,
   "id": "e4f9b4ff",
   "metadata": {},
   "outputs": [
    {
     "name": "stdout",
     "output_type": "stream",
     "text": [
      "Enter a Positive number :7\n",
      "The number 7 is prime\n"
     ]
    }
   ],
   "source": [
    "def is_prime(num):\n",
    "    if num < 2:\n",
    "        return False\n",
    "    for i in range(2, int(num**0.5) + 1):\n",
    "        if num % i == 0:\n",
    "            return False\n",
    "    return True\n",
    "no = int(input('Enter a Positive number :'))\n",
    "result = is_prime(no)\n",
    "print(f\"The number {no} is {'prime' if result else 'not prime'}\")"
   ]
  },
  {
   "cell_type": "code",
   "execution_count": 28,
   "id": "0304bb19",
   "metadata": {},
   "outputs": [
    {
     "data": {
      "text/plain": [
       "False"
      ]
     },
     "execution_count": 28,
     "metadata": {},
     "output_type": "execute_result"
    }
   ],
   "source": [
    "is_prime(4)"
   ]
  },
  {
   "cell_type": "code",
   "execution_count": 29,
   "id": "1360b954",
   "metadata": {},
   "outputs": [
    {
     "data": {
      "text/plain": [
       "True"
      ]
     },
     "execution_count": 29,
     "metadata": {},
     "output_type": "execute_result"
    }
   ],
   "source": [
    "is_prime(2)"
   ]
  },
  {
   "cell_type": "markdown",
   "id": "8ed0d54f",
   "metadata": {},
   "source": [
    "### Generate Fibonacci Series:"
   ]
  },
  {
   "cell_type": "code",
   "execution_count": 31,
   "id": "be522e4c",
   "metadata": {},
   "outputs": [
    {
     "name": "stdout",
     "output_type": "stream",
     "text": [
      "Enter the number of Fibonacci terms to generate: 1\n",
      "The Fibonacci series is: [0, 1]\n"
     ]
    }
   ],
   "source": [
    "def fibonacci(n):\n",
    "    fib_series = [0, 1]\n",
    "    while len(fib_series) < n:\n",
    "        fib_series.append(fib_series[-1] + fib_series[-2])\n",
    "    return fib_series\n",
    "\n",
    "num_terms = int(input(\"Enter the number of Fibonacci terms to generate: \"))\n",
    "result = fibonacci(num_terms)\n",
    "print(f\"The Fibonacci series is: {result}\")"
   ]
  },
  {
   "cell_type": "code",
   "execution_count": 32,
   "id": "05031651",
   "metadata": {},
   "outputs": [
    {
     "data": {
      "text/plain": [
       "[0, 1, 1]"
      ]
     },
     "execution_count": 32,
     "metadata": {},
     "output_type": "execute_result"
    }
   ],
   "source": [
    "fibonacci(3)"
   ]
  },
  {
   "cell_type": "code",
   "execution_count": 33,
   "id": "ed385f48",
   "metadata": {},
   "outputs": [
    {
     "data": {
      "text/plain": [
       "[0, 1, 1, 2, 3]"
      ]
     },
     "execution_count": 33,
     "metadata": {},
     "output_type": "execute_result"
    }
   ],
   "source": [
    "fibonacci(5)"
   ]
  },
  {
   "cell_type": "code",
   "execution_count": null,
   "id": "4e4c966b",
   "metadata": {},
   "outputs": [],
   "source": []
  }
 ],
 "metadata": {
  "kernelspec": {
   "display_name": "Python 3 (ipykernel)",
   "language": "python",
   "name": "python3"
  },
  "language_info": {
   "codemirror_mode": {
    "name": "ipython",
    "version": 3
   },
   "file_extension": ".py",
   "mimetype": "text/x-python",
   "name": "python",
   "nbconvert_exporter": "python",
   "pygments_lexer": "ipython3",
   "version": "3.11.5"
  }
 },
 "nbformat": 4,
 "nbformat_minor": 5
}
